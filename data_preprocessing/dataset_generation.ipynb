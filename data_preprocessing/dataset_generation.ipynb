{
 "cells": [
  {
   "cell_type": "code",
   "execution_count": 1,
   "metadata": {},
   "outputs": [],
   "source": [
    "import numpy as np\n",
    "import pandas as pd\n",
    "from scipy import stats\n",
    "import csv\n",
    "from feature_extraction import feature_extraction"
   ]
  },
  {
   "cell_type": "code",
   "execution_count": 2,
   "metadata": {},
   "outputs": [],
   "source": [
    "folder = \"/Users/tingtingx/Documents/CEG4/SEM1/CG3002/ML_Code/train_raw_data2/\"\n",
    "file = ['wiper','number7','chicken','sidestep','turnclap','rest']"
   ]
  },
  {
   "cell_type": "code",
   "execution_count": 3,
   "metadata": {},
   "outputs": [],
   "source": [
    "#apply overlaping sliding window\n",
    "def load_segments(file_name, window_size, overlap):\n",
    "    df = pd.read_csv(file_name,header =None)\n",
    "    data = df.values #change to numpy array\n",
    "    data_seg = []\n",
    "    label_seg = []\n",
    "    for i in range(int(len(data)/overlap)-1):\n",
    "        data_seg.append(data[i*overlap:((i*overlap)+(window_size-1)),0:12])\n",
    "        label_seg.append(int(data[i][12]))\n",
    "    return data_seg, label_seg"
   ]
  },
  {
   "cell_type": "code",
   "execution_count": 4,
   "metadata": {},
   "outputs": [],
   "source": [
    "data=[]\n",
    "label=[]\n",
    "\n",
    "for i in range(len(file)-1):\n",
    "    for j in range(1, 13):        \n",
    "        x,y= load_segments(folder+''.join(file[i])+str(j)+\".csv\",24 ,12)\n",
    "        data.extend(x)\n",
    "        label.extend(y)\n",
    "for i in range(1, 7):\n",
    "    x,y= load_segments(folder+''.join(file[len(file)-1])+str(i)+\".csv\",24 ,12)\n",
    "    data.extend(x)\n",
    "    label.extend(y)"
   ]
  },
  {
   "cell_type": "code",
   "execution_count": null,
   "metadata": {},
   "outputs": [],
   "source": []
  },
  {
   "cell_type": "code",
   "execution_count": null,
   "metadata": {},
   "outputs": [],
   "source": []
  },
  {
   "cell_type": "code",
   "execution_count": 5,
   "metadata": {},
   "outputs": [
    {
     "name": "stdout",
     "output_type": "stream",
     "text": [
      "72\n"
     ]
    }
   ],
   "source": [
    "feature_list=[]\n",
    "for i in range(int(len(data))):\n",
    "    feature_list.append(feature_extraction(np.asarray(data[i])))\n",
    "print(len(feature_list[0]))"
   ]
  },
  {
   "cell_type": "code",
   "execution_count": 6,
   "metadata": {},
   "outputs": [],
   "source": [
    "df_data= pd.DataFrame(feature_list)\n",
    "df_label=pd.DataFrame(label)"
   ]
  },
  {
   "cell_type": "code",
   "execution_count": 7,
   "metadata": {},
   "outputs": [],
   "source": [
    "#save as csv\n",
    "df_data.to_csv(\"dataset6.csv\", sep=',', header=None, index=None)\n",
    "df_label.to_csv(\"label6.csv\", header=None, index=None)"
   ]
  },
  {
   "cell_type": "code",
   "execution_count": null,
   "metadata": {},
   "outputs": [],
   "source": []
  },
  {
   "cell_type": "code",
   "execution_count": null,
   "metadata": {},
   "outputs": [],
   "source": []
  }
 ],
 "metadata": {
  "kernelspec": {
   "display_name": "Python 3",
   "language": "python",
   "name": "python3"
  },
  "language_info": {
   "codemirror_mode": {
    "name": "ipython",
    "version": 3
   },
   "file_extension": ".py",
   "mimetype": "text/x-python",
   "name": "python",
   "nbconvert_exporter": "python",
   "pygments_lexer": "ipython3",
   "version": "3.6.5"
  }
 },
 "nbformat": 4,
 "nbformat_minor": 2
}
